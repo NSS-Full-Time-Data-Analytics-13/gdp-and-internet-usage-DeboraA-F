{
 "cells": [
  {
   "cell_type": "markdown",
   "id": "f712fb10-9ca3-4a49-b9a7-b44b36e17a29",
   "metadata": {},
   "source": [
    " ### 3.\tImport the required packages with their customary aliases as follows:\n",
    "\n",
    "    `import pandas as pd`   \n",
    "    `import numpy as np`  \n",
    "    `import matplotlib.pyplot as plt`  \n",
    "    `import seaborn as sns`"
   ]
  },
  {
   "cell_type": "code",
   "execution_count": 2,
   "id": "218dd4d9-b4e0-46ca-bdd3-457b0258158a",
   "metadata": {},
   "outputs": [],
   "source": [
    "import pandas as pd   \n",
    "import numpy as np \n",
    "import matplotlib.pyplot as plt  \n",
    "import seaborn as sns"
   ]
  },
  {
   "cell_type": "markdown",
   "id": "69474701-481e-42d6-acca-7ec77b13e5f5",
   "metadata": {},
   "source": [
    "### 4.\tUsing the pandas `read_csv()` method, read the GDP dataset into your notebook as a DataFrame called `gdp_df`. Take a look at the first few and last few rows to familiarize yourself with what is contained in this dataset."
   ]
  },
  {
   "cell_type": "code",
   "execution_count": 4,
   "id": "8e69f8e8-039d-43ef-a4db-c87a7ccd3c54",
   "metadata": {
    "scrolled": true
   },
   "outputs": [
    {
     "data": {
      "text/html": [
       "<div>\n",
       "<style scoped>\n",
       "    .dataframe tbody tr th:only-of-type {\n",
       "        vertical-align: middle;\n",
       "    }\n",
       "\n",
       "    .dataframe tbody tr th {\n",
       "        vertical-align: top;\n",
       "    }\n",
       "\n",
       "    .dataframe thead th {\n",
       "        text-align: right;\n",
       "    }\n",
       "</style>\n",
       "<table border=\"1\" class=\"dataframe\">\n",
       "  <thead>\n",
       "    <tr style=\"text-align: right;\">\n",
       "      <th></th>\n",
       "      <th>Country or Area</th>\n",
       "      <th>Year</th>\n",
       "      <th>Value</th>\n",
       "      <th>Value Footnotes</th>\n",
       "    </tr>\n",
       "  </thead>\n",
       "  <tbody>\n",
       "    <tr>\n",
       "      <th>0</th>\n",
       "      <td>Afghanistan</td>\n",
       "      <td>2021</td>\n",
       "      <td>1517.016266</td>\n",
       "      <td>NaN</td>\n",
       "    </tr>\n",
       "    <tr>\n",
       "      <th>1</th>\n",
       "      <td>Afghanistan</td>\n",
       "      <td>2020</td>\n",
       "      <td>1968.341002</td>\n",
       "      <td>NaN</td>\n",
       "    </tr>\n",
       "    <tr>\n",
       "      <th>2</th>\n",
       "      <td>Afghanistan</td>\n",
       "      <td>2019</td>\n",
       "      <td>2079.921861</td>\n",
       "      <td>NaN</td>\n",
       "    </tr>\n",
       "    <tr>\n",
       "      <th>3</th>\n",
       "      <td>Afghanistan</td>\n",
       "      <td>2018</td>\n",
       "      <td>2060.698973</td>\n",
       "      <td>NaN</td>\n",
       "    </tr>\n",
       "    <tr>\n",
       "      <th>4</th>\n",
       "      <td>Afghanistan</td>\n",
       "      <td>2017</td>\n",
       "      <td>2096.093111</td>\n",
       "      <td>NaN</td>\n",
       "    </tr>\n",
       "    <tr>\n",
       "      <th>...</th>\n",
       "      <td>...</td>\n",
       "      <td>...</td>\n",
       "      <td>...</td>\n",
       "      <td>...</td>\n",
       "    </tr>\n",
       "    <tr>\n",
       "      <th>7657</th>\n",
       "      <td>Zimbabwe</td>\n",
       "      <td>1994</td>\n",
       "      <td>2670.106615</td>\n",
       "      <td>NaN</td>\n",
       "    </tr>\n",
       "    <tr>\n",
       "      <th>7658</th>\n",
       "      <td>Zimbabwe</td>\n",
       "      <td>1993</td>\n",
       "      <td>2458.783255</td>\n",
       "      <td>NaN</td>\n",
       "    </tr>\n",
       "    <tr>\n",
       "      <th>7659</th>\n",
       "      <td>Zimbabwe</td>\n",
       "      <td>1992</td>\n",
       "      <td>2468.278257</td>\n",
       "      <td>NaN</td>\n",
       "    </tr>\n",
       "    <tr>\n",
       "      <th>7660</th>\n",
       "      <td>Zimbabwe</td>\n",
       "      <td>1991</td>\n",
       "      <td>2781.787843</td>\n",
       "      <td>NaN</td>\n",
       "    </tr>\n",
       "    <tr>\n",
       "      <th>7661</th>\n",
       "      <td>Zimbabwe</td>\n",
       "      <td>1990</td>\n",
       "      <td>2704.757299</td>\n",
       "      <td>NaN</td>\n",
       "    </tr>\n",
       "  </tbody>\n",
       "</table>\n",
       "<p>7662 rows × 4 columns</p>\n",
       "</div>"
      ],
      "text/plain": [
       "     Country or Area  Year        Value  Value Footnotes\n",
       "0        Afghanistan  2021  1517.016266              NaN\n",
       "1        Afghanistan  2020  1968.341002              NaN\n",
       "2        Afghanistan  2019  2079.921861              NaN\n",
       "3        Afghanistan  2018  2060.698973              NaN\n",
       "4        Afghanistan  2017  2096.093111              NaN\n",
       "...              ...   ...          ...              ...\n",
       "7657        Zimbabwe  1994  2670.106615              NaN\n",
       "7658        Zimbabwe  1993  2458.783255              NaN\n",
       "7659        Zimbabwe  1992  2468.278257              NaN\n",
       "7660        Zimbabwe  1991  2781.787843              NaN\n",
       "7661        Zimbabwe  1990  2704.757299              NaN\n",
       "\n",
       "[7662 rows x 4 columns]"
      ]
     },
     "execution_count": 4,
     "metadata": {},
     "output_type": "execute_result"
    }
   ],
   "source": [
    "gdp_df = pd.read_csv('..\\data\\gdp_percapita.csv')\n",
    "gdp_df"
   ]
  },
  {
   "cell_type": "markdown",
   "id": "020ce9ce-cd8a-40c9-9427-df892bc7f6b1",
   "metadata": {},
   "source": [
    "### 5. How many rows and columns are in `gdp_df`? What are the data types of each column?"
   ]
  },
  {
   "cell_type": "code",
   "execution_count": 6,
   "id": "7bd56203-cd77-41cc-b028-297fdd6eeae4",
   "metadata": {},
   "outputs": [
    {
     "data": {
      "text/plain": [
       "(7662, 4)"
      ]
     },
     "execution_count": 6,
     "metadata": {},
     "output_type": "execute_result"
    }
   ],
   "source": [
    "gdp_df.shape"
   ]
  },
  {
   "cell_type": "code",
   "execution_count": 7,
   "id": "5d31c4cf-e1b7-475b-b49d-0ec03d7d3375",
   "metadata": {},
   "outputs": [
    {
     "data": {
      "text/plain": [
       "Index(['Country or Area', 'Year', 'Value', 'Value Footnotes'], dtype='object')"
      ]
     },
     "execution_count": 7,
     "metadata": {},
     "output_type": "execute_result"
    }
   ],
   "source": [
    "gdp_df.columns"
   ]
  },
  {
   "cell_type": "markdown",
   "id": "0745a4fb-8073-43a3-8850-4db55894c19c",
   "metadata": {},
   "source": [
    "7662 rows, 4 colums. datatype is \"object\""
   ]
  },
  {
   "cell_type": "markdown",
   "id": "1804cb5f-ba2b-4ad7-9bb3-12cc01c612be",
   "metadata": {},
   "source": [
    "### 6. Drop the `Value Footnotes` column and rename the remaining three to 'Country', 'Year', and 'GDP_Per_Capita'."
   ]
  },
  {
   "cell_type": "code",
   "execution_count": 10,
   "id": "40d461e5-1fcc-4c60-8a63-694ee77653bc",
   "metadata": {
    "scrolled": true
   },
   "outputs": [
    {
     "data": {
      "text/html": [
       "<div>\n",
       "<style scoped>\n",
       "    .dataframe tbody tr th:only-of-type {\n",
       "        vertical-align: middle;\n",
       "    }\n",
       "\n",
       "    .dataframe tbody tr th {\n",
       "        vertical-align: top;\n",
       "    }\n",
       "\n",
       "    .dataframe thead th {\n",
       "        text-align: right;\n",
       "    }\n",
       "</style>\n",
       "<table border=\"1\" class=\"dataframe\">\n",
       "  <thead>\n",
       "    <tr style=\"text-align: right;\">\n",
       "      <th></th>\n",
       "      <th>Country or Area</th>\n",
       "      <th>Year</th>\n",
       "      <th>Value</th>\n",
       "    </tr>\n",
       "  </thead>\n",
       "  <tbody>\n",
       "    <tr>\n",
       "      <th>0</th>\n",
       "      <td>Afghanistan</td>\n",
       "      <td>2021</td>\n",
       "      <td>1517.016266</td>\n",
       "    </tr>\n",
       "    <tr>\n",
       "      <th>1</th>\n",
       "      <td>Afghanistan</td>\n",
       "      <td>2020</td>\n",
       "      <td>1968.341002</td>\n",
       "    </tr>\n",
       "    <tr>\n",
       "      <th>2</th>\n",
       "      <td>Afghanistan</td>\n",
       "      <td>2019</td>\n",
       "      <td>2079.921861</td>\n",
       "    </tr>\n",
       "    <tr>\n",
       "      <th>3</th>\n",
       "      <td>Afghanistan</td>\n",
       "      <td>2018</td>\n",
       "      <td>2060.698973</td>\n",
       "    </tr>\n",
       "    <tr>\n",
       "      <th>4</th>\n",
       "      <td>Afghanistan</td>\n",
       "      <td>2017</td>\n",
       "      <td>2096.093111</td>\n",
       "    </tr>\n",
       "    <tr>\n",
       "      <th>...</th>\n",
       "      <td>...</td>\n",
       "      <td>...</td>\n",
       "      <td>...</td>\n",
       "    </tr>\n",
       "    <tr>\n",
       "      <th>7657</th>\n",
       "      <td>Zimbabwe</td>\n",
       "      <td>1994</td>\n",
       "      <td>2670.106615</td>\n",
       "    </tr>\n",
       "    <tr>\n",
       "      <th>7658</th>\n",
       "      <td>Zimbabwe</td>\n",
       "      <td>1993</td>\n",
       "      <td>2458.783255</td>\n",
       "    </tr>\n",
       "    <tr>\n",
       "      <th>7659</th>\n",
       "      <td>Zimbabwe</td>\n",
       "      <td>1992</td>\n",
       "      <td>2468.278257</td>\n",
       "    </tr>\n",
       "    <tr>\n",
       "      <th>7660</th>\n",
       "      <td>Zimbabwe</td>\n",
       "      <td>1991</td>\n",
       "      <td>2781.787843</td>\n",
       "    </tr>\n",
       "    <tr>\n",
       "      <th>7661</th>\n",
       "      <td>Zimbabwe</td>\n",
       "      <td>1990</td>\n",
       "      <td>2704.757299</td>\n",
       "    </tr>\n",
       "  </tbody>\n",
       "</table>\n",
       "<p>7662 rows × 3 columns</p>\n",
       "</div>"
      ],
      "text/plain": [
       "     Country or Area  Year        Value\n",
       "0        Afghanistan  2021  1517.016266\n",
       "1        Afghanistan  2020  1968.341002\n",
       "2        Afghanistan  2019  2079.921861\n",
       "3        Afghanistan  2018  2060.698973\n",
       "4        Afghanistan  2017  2096.093111\n",
       "...              ...   ...          ...\n",
       "7657        Zimbabwe  1994  2670.106615\n",
       "7658        Zimbabwe  1993  2458.783255\n",
       "7659        Zimbabwe  1992  2468.278257\n",
       "7660        Zimbabwe  1991  2781.787843\n",
       "7661        Zimbabwe  1990  2704.757299\n",
       "\n",
       "[7662 rows x 3 columns]"
      ]
     },
     "execution_count": 10,
     "metadata": {},
     "output_type": "execute_result"
    }
   ],
   "source": [
    "gdp_df = gdp_df.drop(columns = 'Value Footnotes')\n",
    "gdp_df"
   ]
  },
  {
   "cell_type": "code",
   "execution_count": 11,
   "id": "d9de79c9-f067-4674-af89-e3750f71d54e",
   "metadata": {
    "scrolled": true
   },
   "outputs": [
    {
     "data": {
      "text/html": [
       "<div>\n",
       "<style scoped>\n",
       "    .dataframe tbody tr th:only-of-type {\n",
       "        vertical-align: middle;\n",
       "    }\n",
       "\n",
       "    .dataframe tbody tr th {\n",
       "        vertical-align: top;\n",
       "    }\n",
       "\n",
       "    .dataframe thead th {\n",
       "        text-align: right;\n",
       "    }\n",
       "</style>\n",
       "<table border=\"1\" class=\"dataframe\">\n",
       "  <thead>\n",
       "    <tr style=\"text-align: right;\">\n",
       "      <th></th>\n",
       "      <th>Country</th>\n",
       "      <th>Year</th>\n",
       "      <th>GDP_Per_Capita</th>\n",
       "    </tr>\n",
       "  </thead>\n",
       "  <tbody>\n",
       "    <tr>\n",
       "      <th>0</th>\n",
       "      <td>Afghanistan</td>\n",
       "      <td>2021</td>\n",
       "      <td>1517.016266</td>\n",
       "    </tr>\n",
       "    <tr>\n",
       "      <th>1</th>\n",
       "      <td>Afghanistan</td>\n",
       "      <td>2020</td>\n",
       "      <td>1968.341002</td>\n",
       "    </tr>\n",
       "    <tr>\n",
       "      <th>2</th>\n",
       "      <td>Afghanistan</td>\n",
       "      <td>2019</td>\n",
       "      <td>2079.921861</td>\n",
       "    </tr>\n",
       "    <tr>\n",
       "      <th>3</th>\n",
       "      <td>Afghanistan</td>\n",
       "      <td>2018</td>\n",
       "      <td>2060.698973</td>\n",
       "    </tr>\n",
       "    <tr>\n",
       "      <th>4</th>\n",
       "      <td>Afghanistan</td>\n",
       "      <td>2017</td>\n",
       "      <td>2096.093111</td>\n",
       "    </tr>\n",
       "    <tr>\n",
       "      <th>...</th>\n",
       "      <td>...</td>\n",
       "      <td>...</td>\n",
       "      <td>...</td>\n",
       "    </tr>\n",
       "    <tr>\n",
       "      <th>7657</th>\n",
       "      <td>Zimbabwe</td>\n",
       "      <td>1994</td>\n",
       "      <td>2670.106615</td>\n",
       "    </tr>\n",
       "    <tr>\n",
       "      <th>7658</th>\n",
       "      <td>Zimbabwe</td>\n",
       "      <td>1993</td>\n",
       "      <td>2458.783255</td>\n",
       "    </tr>\n",
       "    <tr>\n",
       "      <th>7659</th>\n",
       "      <td>Zimbabwe</td>\n",
       "      <td>1992</td>\n",
       "      <td>2468.278257</td>\n",
       "    </tr>\n",
       "    <tr>\n",
       "      <th>7660</th>\n",
       "      <td>Zimbabwe</td>\n",
       "      <td>1991</td>\n",
       "      <td>2781.787843</td>\n",
       "    </tr>\n",
       "    <tr>\n",
       "      <th>7661</th>\n",
       "      <td>Zimbabwe</td>\n",
       "      <td>1990</td>\n",
       "      <td>2704.757299</td>\n",
       "    </tr>\n",
       "  </tbody>\n",
       "</table>\n",
       "<p>7662 rows × 3 columns</p>\n",
       "</div>"
      ],
      "text/plain": [
       "          Country  Year  GDP_Per_Capita\n",
       "0     Afghanistan  2021     1517.016266\n",
       "1     Afghanistan  2020     1968.341002\n",
       "2     Afghanistan  2019     2079.921861\n",
       "3     Afghanistan  2018     2060.698973\n",
       "4     Afghanistan  2017     2096.093111\n",
       "...           ...   ...             ...\n",
       "7657     Zimbabwe  1994     2670.106615\n",
       "7658     Zimbabwe  1993     2458.783255\n",
       "7659     Zimbabwe  1992     2468.278257\n",
       "7660     Zimbabwe  1991     2781.787843\n",
       "7661     Zimbabwe  1990     2704.757299\n",
       "\n",
       "[7662 rows x 3 columns]"
      ]
     },
     "execution_count": 11,
     "metadata": {},
     "output_type": "execute_result"
    }
   ],
   "source": [
    "gdp_df.columns = ['Country', 'Year', 'GDP_Per_Capita']\n",
    "gdp_df"
   ]
  },
  {
   "cell_type": "markdown",
   "id": "b2e4022f-baf3-4081-b401-956a375ba530",
   "metadata": {},
   "source": [
    "### 7. How many countries have data for all years? Which countries are missing many years of data? Look at the number of observations per year. What do you notice?"
   ]
  },
  {
   "cell_type": "code",
   "execution_count": 95,
   "id": "4981985f-55b9-448e-8bee-43eed23914be",
   "metadata": {},
   "outputs": [
    {
     "data": {
      "text/plain": [
       "Country           0\n",
       "Year              0\n",
       "GDP_Per_Capita    0\n",
       "dtype: int64"
      ]
     },
     "execution_count": 95,
     "metadata": {},
     "output_type": "execute_result"
    }
   ],
   "source": [
    "gdp_df.isna().sum()"
   ]
  },
  {
   "cell_type": "code",
   "execution_count": 101,
   "id": "7906ac34-da5f-49e1-9d21-a0b7e7c28fef",
   "metadata": {},
   "outputs": [
    {
     "data": {
      "text/plain": [
       "Year\n",
       "2013    242\n",
       "2016    242\n",
       "2014    242\n",
       "2015    242\n",
       "2020    242\n",
       "2017    242\n",
       "2018    242\n",
       "2019    242\n",
       "2021    241\n",
       "2012    240\n",
       "2011    240\n",
       "2010    239\n",
       "2009    239\n",
       "2008    238\n",
       "2007    237\n",
       "2006    237\n",
       "2004    236\n",
       "2005    236\n",
       "2003    235\n",
       "2002    235\n",
       "2001    234\n",
       "2000    233\n",
       "2022    232\n",
       "1999    227\n",
       "1998    226\n",
       "1997    226\n",
       "1996    223\n",
       "1995    223\n",
       "1994    213\n",
       "1993    211\n",
       "1992    210\n",
       "1991    208\n",
       "1990    207\n",
       "Name: count, dtype: int64"
      ]
     },
     "execution_count": 101,
     "metadata": {},
     "output_type": "execute_result"
    }
   ],
   "source": [
    "gdp_df.Year.value_counts()"
   ]
  },
  {
   "cell_type": "code",
   "execution_count": 109,
   "id": "2a4b44ee-c0be-4e85-ab3b-7306079fd747",
   "metadata": {},
   "outputs": [
    {
     "data": {
      "text/html": [
       "<div>\n",
       "<style scoped>\n",
       "    .dataframe tbody tr th:only-of-type {\n",
       "        vertical-align: middle;\n",
       "    }\n",
       "\n",
       "    .dataframe tbody tr th {\n",
       "        vertical-align: top;\n",
       "    }\n",
       "\n",
       "    .dataframe thead th {\n",
       "        text-align: right;\n",
       "    }\n",
       "</style>\n",
       "<table border=\"1\" class=\"dataframe\">\n",
       "  <thead>\n",
       "    <tr style=\"text-align: right;\">\n",
       "      <th></th>\n",
       "      <th>count</th>\n",
       "    </tr>\n",
       "    <tr>\n",
       "      <th>Country</th>\n",
       "      <th></th>\n",
       "    </tr>\n",
       "  </thead>\n",
       "  <tbody>\n",
       "    <tr>\n",
       "      <th>Least developed countries: UN classification</th>\n",
       "      <td>33</td>\n",
       "    </tr>\n",
       "    <tr>\n",
       "      <th>Middle East &amp; North Africa</th>\n",
       "      <td>33</td>\n",
       "    </tr>\n",
       "    <tr>\n",
       "      <th>Middle East &amp; North Africa (IDA &amp; IBRD)</th>\n",
       "      <td>33</td>\n",
       "    </tr>\n",
       "    <tr>\n",
       "      <th>Middle income</th>\n",
       "      <td>33</td>\n",
       "    </tr>\n",
       "    <tr>\n",
       "      <th>Mongolia</th>\n",
       "      <td>33</td>\n",
       "    </tr>\n",
       "    <tr>\n",
       "      <th>...</th>\n",
       "      <td>...</td>\n",
       "    </tr>\n",
       "    <tr>\n",
       "      <th>Kosovo</th>\n",
       "      <td>15</td>\n",
       "    </tr>\n",
       "    <tr>\n",
       "      <th>Sint Maarten (Dutch part)</th>\n",
       "      <td>14</td>\n",
       "    </tr>\n",
       "    <tr>\n",
       "      <th>Turks and Caicos Islands</th>\n",
       "      <td>12</td>\n",
       "    </tr>\n",
       "    <tr>\n",
       "      <th>Somalia</th>\n",
       "      <td>10</td>\n",
       "    </tr>\n",
       "    <tr>\n",
       "      <th>Djibouti</th>\n",
       "      <td>10</td>\n",
       "    </tr>\n",
       "  </tbody>\n",
       "</table>\n",
       "<p>242 rows × 1 columns</p>\n",
       "</div>"
      ],
      "text/plain": [
       "                                              count\n",
       "Country                                            \n",
       "Least developed countries: UN classification     33\n",
       "Middle East & North Africa                       33\n",
       "Middle East & North Africa (IDA & IBRD)          33\n",
       "Middle income                                    33\n",
       "Mongolia                                         33\n",
       "...                                             ...\n",
       "Kosovo                                           15\n",
       "Sint Maarten (Dutch part)                        14\n",
       "Turks and Caicos Islands                         12\n",
       "Somalia                                          10\n",
       "Djibouti                                         10\n",
       "\n",
       "[242 rows x 1 columns]"
      ]
     },
     "execution_count": 109,
     "metadata": {},
     "output_type": "execute_result"
    }
   ],
   "source": [
    "country_gdp =gdp_df.Country.value_counts().to_frame()\n",
    "country_gdp"
   ]
  },
  {
   "cell_type": "code",
   "execution_count": 111,
   "id": "5b5badfa-20f1-4cc3-86f1-dc682f1fe42a",
   "metadata": {},
   "outputs": [
    {
     "data": {
      "text/plain": [
       "count\n",
       "33       202\n",
       "28        10\n",
       "32         5\n",
       "23         4\n",
       "31         3\n",
       "22         3\n",
       "29         2\n",
       "26         2\n",
       "10         2\n",
       "12         1\n",
       "25         1\n",
       "20         1\n",
       "19         1\n",
       "16         1\n",
       "30         1\n",
       "15         1\n",
       "14         1\n",
       "24         1\n",
       "Name: count, dtype: int64"
      ]
     },
     "execution_count": 111,
     "metadata": {},
     "output_type": "execute_result"
    }
   ],
   "source": [
    "country_gdp.value_counts()"
   ]
  },
  {
   "cell_type": "markdown",
   "id": "72ff6e4a-0286-420b-be0f-03b1ae14578c",
   "metadata": {},
   "source": [
    "### 8. In this question, you're going to create some plots to show the distribution of GDP per capita for the year 2020. Go to the Python Graph Gallery (https://www.python-graph-gallery.com/) and look at the different types of plots under the Distribution section. Create a histogram, a density plot, a boxplot, and a violin plot. What do you notice when you look at these plots? How do the plots compare and what information can you get out of one type that you can't necessarily get out of the others?"
   ]
  },
  {
   "cell_type": "code",
   "execution_count": 77,
   "id": "488d0f98-2aaa-4421-b4d4-c12b1d44cb9a",
   "metadata": {
    "scrolled": true
   },
   "outputs": [
    {
     "name": "stderr",
     "output_type": "stream",
     "text": [
      "C:\\Users\\debor\\anaconda3\\Lib\\site-packages\\seaborn\\_oldcore.py:1119: FutureWarning: use_inf_as_na option is deprecated and will be removed in a future version. Convert inf values to NaN before operating instead.\n",
      "  with pd.option_context('mode.use_inf_as_na', True):\n"
     ]
    },
    {
     "data": {
      "image/png": "[encoded data removed]",
      "text/plain": [
       "<Figure size 500x500 with 1 Axes>"
      ]
     },
     "metadata": {},
     "output_type": "display_data"
    }
   ],
   "source": [
    "sns.displot( data=gdp_df[\"GDP_Per_Capita\"], kde=True );"
   ]
  },
  {
   "cell_type": "code",
   "execution_count": 69,
   "id": "73003c4f-cc8c-445f-a00c-8e5c2aad60fd",
   "metadata": {
    "scrolled": true
   },
   "outputs": [
    {
     "name": "stderr",
     "output_type": "stream",
     "text": [
      "C:\\Users\\debor\\anaconda3\\Lib\\site-packages\\seaborn\\_oldcore.py:1119: FutureWarning: use_inf_as_na option is deprecated and will be removed in a future version. Convert inf values to NaN before operating instead.\n",
      "  with pd.option_context('mode.use_inf_as_na', True):\n"
     ]
    },
    {
     "data": {
      "image/png": "[encoded data removed]",
      "text/plain": [
       "<Figure size 640x480 with 1 Axes>"
      ]
     },
     "metadata": {},
     "output_type": "display_data"
    }
   ],
   "source": [
    "sns.kdeplot(gdp_df['GDP_Per_Capita']);"
   ]
  },
  {
   "cell_type": "code",
   "execution_count": 73,
   "id": "d8b6b1cf-c50d-4b36-b5bb-340b1955753f",
   "metadata": {
    "scrolled": true
   },
   "outputs": [
    {
     "data": {
      "image/png": "[encoded data removed]",
      "text/plain": [
       "<Figure size 640x480 with 1 Axes>"
      ]
     },
     "metadata": {},
     "output_type": "display_data"
    }
   ],
   "source": [
    "sns.boxplot( x=gdp_df[\"Year\"], y=gdp_df[\"GDP_Per_Capita\"] );"
   ]
  },
  {
   "cell_type": "code",
   "execution_count": 65,
   "id": "1eb2529d-31f0-45ca-9deb-4b28ea7dfe87",
   "metadata": {
    "scrolled": true
   },
   "outputs": [
    {
     "data": {
      "image/png": "[encoded data removed]",
      "text/plain": [
       "<Figure size 640x480 with 1 Axes>"
      ]
     },
     "metadata": {},
     "output_type": "display_data"
    }
   ],
   "source": [
    "sns.violinplot(x=gdp_df[\"Year\"], y=gdp_df[\"GDP_Per_Capita\"]);"
   ]
  },
  {
   "cell_type": "markdown",
   "id": "e45e08f5-e40d-4d4f-a7ec-dae441f6e7fb",
   "metadata": {},
   "source": [
    "### 9. What was the median GDP per capita value in 2020?"
   ]
  },
  {
   "cell_type": "code",
   "execution_count": 91,
   "id": "b5c595da-9594-49dd-98c0-7811fc5bc89b",
   "metadata": {},
   "outputs": [
    {
     "data": {
      "text/plain": [
       "2006.3882798225006"
      ]
     },
     "execution_count": 91,
     "metadata": {},
     "output_type": "execute_result"
    }
   ],
   "source": [
    "gdp_df['Year'].mean()"
   ]
  },
  {
   "cell_type": "markdown",
   "id": "b9ed4789-4d09-4531-9238-616c8fe7f8a7",
   "metadata": {},
   "source": [
    "### 10. For this question, you're going to create some visualizations to compare GDP per capita values for the years 1990, 2000, 2010, and 2020. Start by subsetting your data to just these 4 years into a new DataFrame named gdp_decades. Using this, create the following 4 plots:\r\n",
    "\t* A boxplot\r\n",
    "\t* A barplot (check out the Barplot with Seaborn section: https://www.python-graph-gallery.com/barplot/#Seaborn)\r\n",
    "\t* A scatterplot\r\n",
    "\t* A scatterplot with a trend line overlaid (see this regplot example: https://www.python-graph-gallery.com/42-custom-linear-regression-fit-seaborn) "
   ]
  },
  {
   "cell_type": "code",
   "execution_count": null,
   "id": "2100d4c8-baa0-416f-a107-6d8d58a4807f",
   "metadata": {},
   "outputs": [],
   "source": [
    "gdp_decades = gdp_df"
   ]
  },
  {
   "cell_type": "markdown",
   "id": "c1a55dd9-cde0-4df7-a469-b3a6e07c70d7",
   "metadata": {},
   "source": [
    "### 11. Which country was the first to have a GDP per capita greater than $100,000?"
   ]
  },
  {
   "cell_type": "code",
   "execution_count": null,
   "id": "03997670-12f2-427d-9527-3eb269471af0",
   "metadata": {},
   "outputs": [],
   "source": []
  },
  {
   "cell_type": "markdown",
   "id": "dd618d5e-3689-4168-84e6-dd2eab18d51c",
   "metadata": {},
   "source": [
    "### 12. Which country had the highest GDP per capita in 2020? Create a plot showing how this country's GDP per capita has changed over the timespan of the dataset."
   ]
  },
  {
   "cell_type": "code",
   "execution_count": null,
   "id": "7be9425a-0ac8-4a4c-8677-66eb00f90a79",
   "metadata": {},
   "outputs": [],
   "source": []
  },
  {
   "cell_type": "markdown",
   "id": "ecd67cff-f80d-47c7-8a73-b01a8176f04f",
   "metadata": {},
   "source": [
    "### 13. Which country had the lowest GDP per capita in 2020? Create a plot showing how this country's GDP per capita has changed over the timespan of the dataset. **Bonus question:** Is it true in general that coutries had a higher GDP per capita in 2020 than in 1990? Which countries had lower GDP per capita in 2020 than in 1990?"
   ]
  },
  {
   "cell_type": "code",
   "execution_count": null,
   "id": "218936e3-07f2-4497-974a-cdd25624ad98",
   "metadata": {},
   "outputs": [],
   "source": []
  },
  {
   "cell_type": "markdown",
   "id": "99c8192b-68b0-421d-93f1-8fb2d0f4a1eb",
   "metadata": {},
   "source": [
    "### 14. Read in the internet use dataset into a DataFrame named `internet_df`. You will likely get errors when doing this. Check the arguments for the read_csv function to find ones that can help correct the errors (https://pandas.pydata.org/docs/reference/api/pandas.read_csv.html) Once you are able to read it in, take per a look at the top and bottom few rows to make sure that it has been read in correctly. Also, check the datatypes of the columns."
   ]
  },
  {
   "cell_type": "code",
   "execution_count": null,
   "id": "2da644cd-1f5a-43e5-9e4c-10f73eef2c4e",
   "metadata": {},
   "outputs": [],
   "source": []
  },
  {
   "cell_type": "markdown",
   "id": "a4ad6508-2b05-4a10-97cb-1df9d9733237",
   "metadata": {},
   "source": [
    "### 15. Drop the `Value Footnotes` column and rename the remaining three to 'Country', 'Year', and 'Internet_Users_Pct'."
   ]
  },
  {
   "cell_type": "code",
   "execution_count": null,
   "id": "160f5357-5932-42fb-893b-3fb3a4ca8ac3",
   "metadata": {},
   "outputs": [],
   "source": []
  },
  {
   "cell_type": "markdown",
   "id": "a57b0d44-e258-43e6-976b-021888511051",
   "metadata": {},
   "source": [
    "### 16. Look at the number of observations in this dataset per year. What do you notice?"
   ]
  },
  {
   "cell_type": "code",
   "execution_count": null,
   "id": "4cce6473-c088-4125-b042-867ebb9fe8c6",
   "metadata": {},
   "outputs": [],
   "source": []
  },
  {
   "cell_type": "markdown",
   "id": "8d683c56-3f25-46c3-99f8-96e75e9d5338",
   "metadata": {},
   "source": [
    "### 17. What is the first year to have a non-zero internet users percentage value?"
   ]
  },
  {
   "cell_type": "code",
   "execution_count": null,
   "id": "2c3e3a7a-e672-4a5e-a39c-5b7328296670",
   "metadata": {},
   "outputs": [],
   "source": []
  },
  {
   "cell_type": "markdown",
   "id": "3ac0b9bb-2b8d-4941-81ee-3c5e984ad606",
   "metadata": {},
   "source": [
    "### 18. How does the distribution of internet users percent differ for 2000 and 2014?\r\n"
   ]
  },
  {
   "cell_type": "code",
   "execution_count": null,
   "id": "a42f7719-1dea-4937-a123-c5ccbc5178bc",
   "metadata": {},
   "outputs": [],
   "source": []
  },
  {
   "cell_type": "markdown",
   "id": "23d7b875-c608-487f-a9c0-30a453df272c",
   "metadata": {},
   "source": [
    "### 19. For how many countries was the percentage of internet users below 5% in 2014?\r\n"
   ]
  },
  {
   "cell_type": "code",
   "execution_count": null,
   "id": "4b6a8fea-0aa6-43db-98ed-64ab9220593b",
   "metadata": {},
   "outputs": [],
   "source": []
  },
  {
   "cell_type": "markdown",
   "id": "263ae395-2eec-454f-a02f-4f1cb898463b",
   "metadata": {},
   "source": [
    "### 20. Merge the two DataFrames to one. Do this in a way that keeps **all rows** from each of the two DataFrames. Call the new DataFrame `gdp_and_internet_use`. Look at the first and last few rows to confirm that it merged correctly.\r\n"
   ]
  },
  {
   "cell_type": "code",
   "execution_count": null,
   "id": "eeacc59b-bb6b-4a01-ab38-dde60d621ce8",
   "metadata": {},
   "outputs": [],
   "source": []
  },
  {
   "cell_type": "markdown",
   "id": "521292fb-4875-4299-8827-b81d880119e4",
   "metadata": {},
   "source": [
    "### 21. Find the three countries with the highest internet users percentage in 2014. Use a seaborn FacetGrid (https://seaborn.pydata.org/generated/seaborn.FacetGrid.html) to compare how the GDP per capita has changed over time for these three countries. What do you notice?\r\n"
   ]
  },
  {
   "cell_type": "code",
   "execution_count": null,
   "id": "dd882884-bed6-4b22-adfb-f1fe1efdf6ee",
   "metadata": {},
   "outputs": [],
   "source": []
  },
  {
   "cell_type": "markdown",
   "id": "f5cbfc98-fc4d-4d16-9747-9bfbe6b0ed4c",
   "metadata": {},
   "source": [
    "### 22. Subset `gdp_and_internet_use` to just the year 2014. Save this as a new dataframe named `gdp_and_internet_use_2014`.\r\n"
   ]
  },
  {
   "cell_type": "code",
   "execution_count": null,
   "id": "8e63171f-42f0-4ad9-8634-f7ad9fc87457",
   "metadata": {},
   "outputs": [],
   "source": []
  },
  {
   "cell_type": "markdown",
   "id": "89870b76-6f76-472f-8e4f-2b4ea621c392",
   "metadata": {},
   "source": [
    "### 23. Create a plot which compares Internet Users Percentage and GDP per Capita for the year 2014. What do you notice from this plot? If you see any unusual points, investigate them.\r\n"
   ]
  },
  {
   "cell_type": "code",
   "execution_count": null,
   "id": "213159f5-e30b-444e-b422-a7aef77f7b9b",
   "metadata": {},
   "outputs": [],
   "source": []
  },
  {
   "cell_type": "markdown",
   "id": "db2e8ef5-242a-4b07-93ce-d5e12ecf0c24",
   "metadata": {},
   "source": [
    "### 24. **Stretch Question:** Use the `qcut` function from pandas (https://pandas.pydata.org/docs/reference/api/pandas.qcut.html) to divide countries in `gdp_per_capita_2014` into three groups based on their GDP per capita values. Label these groups as \"Low\", \"Medium\", and \"High\". Put these labels in a new column, named \"GDP_group\".\r\n"
   ]
  },
  {
   "cell_type": "code",
   "execution_count": null,
   "id": "93f0f4fb-8680-4b2b-949e-178da2c4e80a",
   "metadata": {},
   "outputs": [],
   "source": []
  },
  {
   "cell_type": "markdown",
   "id": "b10a88df-7bb3-4e3a-8dea-22a576102f57",
   "metadata": {},
   "source": [
    "### 25. **Stretch Question:** How does the median internet users percentage compare for the three gdp groups?\r\n"
   ]
  },
  {
   "cell_type": "code",
   "execution_count": null,
   "id": "67fc10f1-d1e8-442a-9449-e3d231b23259",
   "metadata": {},
   "outputs": [],
   "source": []
  },
  {
   "cell_type": "markdown",
   "id": "d2285bbd-4a81-4522-a87f-185ad4119c22",
   "metadata": {},
   "source": [
    "### BONUS!!!"
   ]
  },
  {
   "cell_type": "markdown",
   "id": "e43d917a-f879-4701-8095-b38577c5a6f1",
   "metadata": {},
   "source": [
    "### 1.    Download another data set from the UN data (http://data.un.org/Explorer.aspx) to merge with your data and explore.\r\n"
   ]
  },
  {
   "cell_type": "code",
   "execution_count": null,
   "id": "36fcf73f-bb71-4a40-9b11-c5b77fc22378",
   "metadata": {},
   "outputs": [],
   "source": []
  }
 ],
 "metadata": {
  "kernelspec": {
   "display_name": "Python 3 (ipykernel)",
   "language": "python",
   "name": "python3"
  },
  "language_info": {
   "codemirror_mode": {
    "name": "ipython",
    "version": 3
   },
   "file_extension": ".py",
   "mimetype": "text/x-python",
   "name": "python",
   "nbconvert_exporter": "python",
   "pygments_lexer": "ipython3",
   "version": "3.11.7"
  }
 },
 "nbformat": 4,
 "nbformat_minor": 5
}
